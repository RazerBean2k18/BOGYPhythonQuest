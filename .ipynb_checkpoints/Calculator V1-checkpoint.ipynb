{
 "cells": [
  {
   "cell_type": "code",
   "execution_count": 1,
   "id": "ae9d17d6",
   "metadata": {},
   "outputs": [
    {
     "name": "stdout",
     "output_type": "stream",
     "text": [
      "Welcher Rechenart soll genutzt werden?\n",
      "\n",
      "> Addition \t\t(+)\n",
      "> Subtraktion \t\t(-)\n",
      "> Multiplikation \t(*)\n",
      "> Division \t\t(/)\n",
      "\n",
      "+\n",
      "\n",
      "Sie haben Addition gewählt.\n"
     ]
    }
   ],
   "source": [
    "operation = input(\"Welcher Rechenart soll genutzt werden?\\n\\n> Addition \\t\\t(+)\\n> Subtraktion \\t\\t(-)\\n> Multiplikation \\t(*)\\n> Division \\t\\t(/)\\n\\n\")\n",
    "\n",
    "if operation == \"Addition\" or operation == \"+\":\n",
    "    print(\"\\nSie haben Addition gewählt.\")\n",
    "    operator = 1\n",
    "\n",
    "elif operation == \"Subtraktion\" or operation == \"-\":\n",
    "    print(\"\\nSie haben Subtraktion gewählt.\")\n",
    "    operator = 2\n",
    "\n",
    "elif operation == \"Multiplikation\" or operation == \"*\":\n",
    "    print(\"\\nSie haben Multiplikation gewählt.\")\n",
    "    operator = 3\n",
    "\n",
    "elif operation == \"Division\" or operation == \"/\":\n",
    "    print(\"\\nSie haben Division gewählt.\")\n",
    "    operator = 4\n",
    "\n",
    "else:\n",
    "    print(\"\\nEs ist etwas schief glaufen!\")"
   ]
  },
  {
   "cell_type": "code",
   "execution_count": 2,
   "id": "637df5b2",
   "metadata": {},
   "outputs": [
    {
     "name": "stdout",
     "output_type": "stream",
     "text": [
      "Geben Sie die erste Nummer an:\n",
      "12\n",
      "Geben Sie die zweite Nummer an:\n",
      "99\n"
     ]
    }
   ],
   "source": [
    "first = input(\"Geben Sie die erste Nummer an:\\n\")\n",
    "second = input(\"Geben Sie die zweite Nummer an:\\n\")\n",
    "\n",
    "first = float(first)\n",
    "second = float(second)"
   ]
  },
  {
   "cell_type": "code",
   "execution_count": 3,
   "id": "7c036b59",
   "metadata": {},
   "outputs": [
    {
     "name": "stdout",
     "output_type": "stream",
     "text": [
      "Ihr Ergenis ist: 111.0!\n"
     ]
    }
   ],
   "source": [
    "if operator == 1:\n",
    "    result = first + second\n",
    "elif operator == 2:\n",
    "    result = first - second\n",
    "elif operator == 3:\n",
    "    result = first * second\n",
    "elif operator == 4:\n",
    "    result = first / second\n",
    "    \n",
    "result = str(result)\n",
    "    \n",
    "print(\"Ihr Ergenis ist: \" + result + \"!\")"
   ]
  }
 ],
 "metadata": {
  "kernelspec": {
   "display_name": "Python 3",
   "language": "python",
   "name": "python3"
  },
  "language_info": {
   "codemirror_mode": {
    "name": "ipython",
    "version": 3
   },
   "file_extension": ".py",
   "mimetype": "text/x-python",
   "name": "python",
   "nbconvert_exporter": "python",
   "pygments_lexer": "ipython3",
   "version": "3.8.8"
  }
 },
 "nbformat": 4,
 "nbformat_minor": 5
}
